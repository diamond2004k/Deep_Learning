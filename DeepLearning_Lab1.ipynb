{
 "cells": [
  {
   "cell_type": "code",
   "execution_count": 1,
   "id": "a72e20a5",
   "metadata": {},
   "outputs": [],
   "source": [
    "import numpy as np"
   ]
  },
  {
   "cell_type": "code",
   "execution_count": 11,
   "id": "d4cd469a",
   "metadata": {},
   "outputs": [
    {
     "name": "stdout",
     "output_type": "stream",
     "text": [
      "0.2689414213699951\n"
     ]
    }
   ],
   "source": [
    "print(basic_sigmoid(-1))"
   ]
  },
  {
   "cell_type": "code",
   "execution_count": 2,
   "id": "a72b8380",
   "metadata": {},
   "outputs": [
    {
     "name": "stdout",
     "output_type": "stream",
     "text": [
      "[ 2.71828183  7.3890561  20.08553692]\n"
     ]
    }
   ],
   "source": [
    "x=np.array([1,2,3])\n",
    "print(np.exp(x))"
   ]
  },
  {
   "cell_type": "code",
   "execution_count": 3,
   "id": "f066dc73",
   "metadata": {},
   "outputs": [
    {
     "name": "stdout",
     "output_type": "stream",
     "text": [
      "[4 5 6]\n"
     ]
    }
   ],
   "source": [
    "x=np.array([1,2,3])\n",
    "print(x+3)"
   ]
  },
  {
   "cell_type": "code",
   "execution_count": 6,
   "id": "843736b2",
   "metadata": {},
   "outputs": [
    {
     "data": {
      "text/plain": [
       "array([0.73105858, 0.88079708, 0.95257413])"
      ]
     },
     "execution_count": 6,
     "metadata": {},
     "output_type": "execute_result"
    }
   ],
   "source": [
    "x=np.array([1,2,3])\n",
    "sigmoid(x)"
   ]
  },
  {
   "cell_type": "code",
   "execution_count": 4,
   "id": "a35aabbc",
   "metadata": {},
   "outputs": [],
   "source": [
    "import math\n",
    "\n",
    "def basic_sigmoid(x):\n",
    "    s = 1 / (1 + math.exp(-x))\n",
    "    return s"
   ]
  },
  {
   "cell_type": "code",
   "execution_count": 7,
   "id": "58246c94",
   "metadata": {},
   "outputs": [],
   "source": [
    "x=np.array([1,2,3])\n",
    "def sigmoid(x):\n",
    "    s=1/(1+np.exp(-x))\n",
    "    return s"
   ]
  },
  {
   "cell_type": "code",
   "execution_count": 8,
   "id": "f8dc5a2d",
   "metadata": {},
   "outputs": [
    {
     "name": "stdout",
     "output_type": "stream",
     "text": [
      "[0.73105858 0.88079708 0.95257413]\n"
     ]
    }
   ],
   "source": [
    "print(sigmoid(x))"
   ]
  },
  {
   "cell_type": "code",
   "execution_count": 12,
   "id": "bf1a1ce2",
   "metadata": {},
   "outputs": [],
   "source": [
    "import numpy as np\n",
    "x=np.array([1,2,3])\n",
    "def gradient_sigmoid(x):\n",
    "    g=sigmoid(x)*(1-sigmoid(x))\n",
    "    return g"
   ]
  },
  {
   "cell_type": "code",
   "execution_count": 13,
   "id": "7f9606ab",
   "metadata": {},
   "outputs": [
    {
     "name": "stdout",
     "output_type": "stream",
     "text": [
      "[0.19661193 0.10499359 0.04517666]\n"
     ]
    }
   ],
   "source": [
    "print(gradient_sigmoid(x))"
   ]
  },
  {
   "cell_type": "code",
   "execution_count": 10,
   "id": "ed3119c9",
   "metadata": {},
   "outputs": [
    {
     "name": "stdout",
     "output_type": "stream",
     "text": [
      "image2vector(image) = [[0.67826139]\n",
      " [0.29380381]\n",
      " [0.90714982]\n",
      " [0.52835647]\n",
      " [0.4215251 ]\n",
      " [0.45017551]\n",
      " [0.92814219]\n",
      " [0.96677647]\n",
      " [0.85304703]\n",
      " [0.52351845]\n",
      " [0.19981397]\n",
      " [0.27417313]\n",
      " [0.60659855]\n",
      " [0.00533165]\n",
      " [0.10820313]\n",
      " [0.49978937]\n",
      " [0.34144279]\n",
      " [0.94630077]]\n"
     ]
    }
   ],
   "source": [
    "import numpy as np\n",
    "\n",
    "image = np.array([[[0.67826139, 0.29380381],\n",
    "                   [0.90714982, 0.52835647],\n",
    "                   [0.4215251, 0.45017551]],\n",
    "                  \n",
    "                  [[0.92814219, 0.96677647],\n",
    "                   [0.85304703, 0.52351845],\n",
    "                   [0.19981397, 0.27417313]],\n",
    "                  \n",
    "                  [[0.60659855, 0.00533165],\n",
    "                   [0.10820313, 0.49978937],\n",
    "                   [0.34144279, 0.94630077]]])\n",
    "\n",
    "def image2vector(image):\n",
    "    return image.reshape((image.shape[0] * image.shape[1] * image.shape[2], 1))\n",
    "\n",
    "print(\"image2vector(image) = \" + str(image2vector(image)))"
   ]
  },
  {
   "cell_type": "code",
   "execution_count": 14,
   "id": "f3f98ed1",
   "metadata": {},
   "outputs": [],
   "source": [
    "def normalization(x):\n",
    "  x_norm = np.linalg.norm(x,axis=1,keepdims=True)\n",
    "\n",
    "  x=x/x_norm\n",
    "  return x"
   ]
  },
  {
   "cell_type": "code",
   "execution_count": 15,
   "id": "fb9ccd39",
   "metadata": {},
   "outputs": [
    {
     "name": "stdout",
     "output_type": "stream",
     "text": [
      "normalizeRows(x)=[[0.         0.999992   0.00399997]\n",
      " [0.26726124 0.80178373 0.53452248]]\n"
     ]
    }
   ],
   "source": [
    "x=np.array([\n",
    "    [0,1000,4],\n",
    "    [2,6,4]\n",
    "])\n",
    "print(\"normalizeRows(x)=\"+ str (normalization(x)))"
   ]
  },
  {
   "cell_type": "code",
   "execution_count": 16,
   "id": "3a10cd30",
   "metadata": {},
   "outputs": [],
   "source": [
    "def softmax(x):\n",
    "  x_exp = np.exp(x)\n",
    "  x_sum = np.sum(x_exp,axis=1,keepdims=True)\n",
    "  s = x_exp / x_sum\n",
    "  return s"
   ]
  },
  {
   "cell_type": "code",
   "execution_count": 17,
   "id": "74023cf8",
   "metadata": {},
   "outputs": [
    {
     "name": "stdout",
     "output_type": "stream",
     "text": [
      "softmax(x) = [[9.80897665e-01 8.94462891e-04 1.79657674e-02 1.21052389e-04\n",
      "  1.21052389e-04]\n",
      " [8.78679856e-01 1.18916387e-01 8.01252314e-04 8.01252314e-04\n",
      "  8.01252314e-04]]\n"
     ]
    }
   ],
   "source": [
    "x = np.array([\n",
    "    [9, 2, 5, 0, 0],\n",
    "    [7, 5, 0, 0 ,0]])\n",
    "print(\"softmax(x) = \" + str(softmax(x)))"
   ]
  },
  {
   "cell_type": "code",
   "execution_count": 19,
   "id": "c44ade24",
   "metadata": {},
   "outputs": [
    {
     "name": "stdout",
     "output_type": "stream",
     "text": [
      "dot=249992.26877354796\n",
      "---Computation time =234.375ms\n"
     ]
    }
   ],
   "source": [
    "import time\n",
    "\n",
    "x1=np.random.rand(1000000)\n",
    "x2=np.random.rand(1000000)\n",
    "\n",
    "tic=time.process_time()\n",
    "dot=0\n",
    "for i in range(len (x1)):\n",
    "    dot+=x1[i]*x2[i]\n",
    "\n",
    "toc=time.process_time()\n",
    "print(\"dot=\"+str(dot)+\"\\n---Computation time =\"+str(1000*(toc-tic))+\"ms\")"
   ]
  },
  {
   "cell_type": "code",
   "execution_count": 20,
   "id": "41922b8d",
   "metadata": {},
   "outputs": [
    {
     "name": "stdout",
     "output_type": "stream",
     "text": [
      "dot =249992.26877354103\n",
      "--- computation time =0.0ms\n"
     ]
    }
   ],
   "source": [
    "tic=time.process_time()\n",
    "dot=np.dot(x1,x2)\n",
    "\n",
    "toc=time.process_time()\n",
    "print(\"dot =\" +str(dot)+\"\\n--- computation time =\"+str(1000*(toc-tic))+\"ms\")"
   ]
  }
 ],
 "metadata": {
  "kernelspec": {
   "display_name": "Python 3 (ipykernel)",
   "language": "python",
   "name": "python3"
  },
  "language_info": {
   "codemirror_mode": {
    "name": "ipython",
    "version": 3
   },
   "file_extension": ".py",
   "mimetype": "text/x-python",
   "name": "python",
   "nbconvert_exporter": "python",
   "pygments_lexer": "ipython3",
   "version": "3.9.13"
  }
 },
 "nbformat": 4,
 "nbformat_minor": 5
}
